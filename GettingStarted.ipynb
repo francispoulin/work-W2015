{
 "metadata": {
  "name": "",
  "signature": "sha256:d1be5e424e1ef9f2022d11d093ad495eb69b3b39752fa662e58f9763258a2e3a"
 },
 "nbformat": 3,
 "nbformat_minor": 0,
 "worksheets": [
  {
   "cells": [
    {
     "cell_type": "markdown",
     "metadata": {},
     "source": [
      "# Getting Started\n",
      "Continuing from the NEW_USERS.md guide.\n",
      "\n",
      "## Numerical Solutions to PDEs\n",
      "This is a field that has a vast amount of research done in it and it is insulting to attempt to summarize it here. Unfortunately, I am a rude person, so I will attempt to do exactly that.\n",
      "\n",
      "The basis of solving PDEs numerically is the idea of discretizing the derivatives and then iterating these discretizations through time (so time is also discretized!). Consider a simple first derivative:\n",
      "\n",
      "$$\\frac{dU}{dx}$$\n",
      "\n",
      "Recall that we can calculate the derivative from first principles as such\n",
      "\n",
      "$$\\frac{dU}{dx} = \\lim_{h\\to 0} \\frac{U(x+h) - U(x)}{h}$$\n",
      "\n",
      "The discretization of a derivative is based off of this concept. Suppose we had an interval $x\\in [a,b]$. For some integer $N$, let us split up this interval into $N+1$ partitions and label the end-points as $[x_i, x_{i+1}]$. Then, the entire interval can be thought of as having $N+2$ points: a left-most point ($x_0$), a right-most \n",
      "\n",
      "## Parallel Computing\n",
      "The entire purpose of my project is to make certain things run faster than they did before. "
     ]
    },
    {
     "cell_type": "code",
     "collapsed": false,
     "input": [],
     "language": "python",
     "metadata": {},
     "outputs": [],
     "prompt_number": 0
    }
   ],
   "metadata": {}
  }
 ]
}